{
 "cells": [
  {
   "cell_type": "markdown",
   "id": "fa02f7af",
   "metadata": {},
   "source": [
    "Example: Reusability/Clarity \\\n",
    "Let's say we wanted to print the cube of a number. That is, a number multiplied by itself 3 times. \n",
    "\n",
    "For example, 2 cubed is 2 * 2 * 2 = 8"
   ]
  },
  {
   "cell_type": "markdown",
   "id": "ba0f594c",
   "metadata": {},
   "source": [
    "If we wanted to find the cubes of 2, 5, and 10, we could do the following:"
   ]
  },
  {
   "cell_type": "code",
   "execution_count": 5,
   "id": "2d0b4d09",
   "metadata": {},
   "outputs": [
    {
     "name": "stdout",
     "output_type": "stream",
     "text": [
      "8\n",
      "125\n",
      "1000\n"
     ]
    }
   ],
   "source": [
    "print(2 * 2 * 2)\n",
    "print(5 * 5 * 5)\n",
    "print(10 * 10 * 10)"
   ]
  },
  {
   "cell_type": "markdown",
   "id": "50e787cc",
   "metadata": {},
   "source": [
    "We can make this more efficient with a function! Now, we don't have to type out \"x * x * x\" every time. "
   ]
  },
  {
   "cell_type": "code",
   "execution_count": 6,
   "id": "618d5da3",
   "metadata": {},
   "outputs": [
    {
     "name": "stdout",
     "output_type": "stream",
     "text": [
      "8\n",
      "125\n",
      "1000\n"
     ]
    }
   ],
   "source": [
    "def cube(n):\n",
    "    return n * n * n\n",
    "print(cube(2))\n",
    "print(cube(5))\n",
    "print(cube(10))"
   ]
  },
  {
   "cell_type": "markdown",
   "id": "95bc1621",
   "metadata": {},
   "source": [
    "We can also use functions branches to make it clear what our code is doing. For example, take a look at this basic calculator that handles addition and multiplication:\n",
    "\n",
    "With the functions, we can easily customize our add and multiply messages. "
   ]
  },
  {
   "cell_type": "code",
   "execution_count": 11,
   "id": "9b5c5992",
   "metadata": {},
   "outputs": [
    {
     "name": "stdout",
     "output_type": "stream",
     "text": [
      "enter 1 for addition or 2 for multiplication\n",
      "enter 2 numbers in the format 'a b' to add/multiply\n",
      "Adding 6 and 7\n",
      "Your total is 13\n"
     ]
    }
   ],
   "source": [
    "def add(a, b):\n",
    "    print(f\"Adding {a} and {b}\")\n",
    "    total = a + b\n",
    "    print(\"Your total is\", total)\n",
    "def multiply(a, b):\n",
    "    print(f\"Multiplying {a} and {b}\")\n",
    "    product = a * b\n",
    "    print(\"Your product is\", product)\n",
    "\n",
    "\n",
    "for i in range(1):\n",
    "    print(\"enter 1 for addition or 2 for multiplication\", flush=True)\n",
    "    operation = int(input())\n",
    "    print(\"enter 2 numbers in the format \\'a b\\' to add/multiply\", flush=True)\n",
    "    a, b = map(int, input().split())\n",
    "    # print(a, b, operation, flush = True)\n",
    "    if operation == 1:\n",
    "        add(a, b)\n",
    "    elif operation == 2:\n",
    "        multiply(a, b)\n",
    "    else:\n",
    "        print(\"Invalid command\")"
   ]
  }
 ],
 "metadata": {
  "kernelspec": {
   "display_name": "Python 3",
   "language": "python",
   "name": "python3"
  },
  "language_info": {
   "codemirror_mode": {
    "name": "ipython",
    "version": 3
   },
   "file_extension": ".py",
   "mimetype": "text/x-python",
   "name": "python",
   "nbconvert_exporter": "python",
   "pygments_lexer": "ipython3",
   "version": "3.11.4"
  }
 },
 "nbformat": 4,
 "nbformat_minor": 5
}
