{
 "cells": [
  {
   "cell_type": "markdown",
   "id": "fa02f7af",
   "metadata": {},
   "source": [
    "Example: Reusability/Clarity\n",
    "Let's say we wanted to print the user's number and their sum twice"
   ]
  },
  {
   "cell_type": "code",
   "execution_count": 10,
   "id": "2d0b4d09",
   "metadata": {},
   "outputs": [
    {
     "name": "stdout",
     "output_type": "stream",
     "text": [
      "enter 2 numbers to add in the format 'a b'\n",
      "Your numbers are 1 2\n",
      "Your sum is 3\n",
      "enter 2 numbers to add in the format 'a b'\n",
      "Your numbers are 3 4\n",
      "Your sum is 7\n"
     ]
    }
   ],
   "source": [
    "# process 2 user inputs and operate on them\n",
    "print(\"enter 2 numbers to add in the format \\'a b\\'\")\n",
    "a, b = map(int, input().split())\n",
    "print(\"Your numbers are\", a, b)\n",
    "print(\"Your sum is\", a + b)\n",
    "print(\"enter 2 numbers to add in the format \\'a b\\'\")\n",
    "a, b = map(int, input().split())\n",
    "print(\"Your numbers are\", a, b)\n",
    "print(\"Your sum is\", a + b)"
   ]
  },
  {
   "cell_type": "markdown",
   "id": "48a80028",
   "metadata": {},
   "source": [
    "If we wanted to change our operation from addition to multiplication, we would have to change several lines of code. We have already learned a way to optimize this: the loop. Here, if we wanted to change our operation to subtraction, we'd only have to change 3 lines of code instead of 6. "
   ]
  },
  {
   "cell_type": "code",
   "execution_count": 23,
   "id": "85a1ece6",
   "metadata": {},
   "outputs": [
    {
     "name": "stdout",
     "output_type": "stream",
     "text": [
      "enter 2 numbers to add in the format 'a b'\n",
      "Your numbers are 1 2\n",
      "Your sum is 3\n",
      "enter 2 numbers to add in the format 'a b'\n",
      "Your numbers are 3 4\n",
      "Your sum is 7\n"
     ]
    }
   ],
   "source": [
    "for i in range(2):\n",
    "    # have to flush the output or else it won't print until the end\n",
    "    print(\"enter 2 numbers to add in the format \\'a b\\'\", flush = True)\n",
    "    a, b = map(int, input().split())\n",
    "    print(\"Your numbers are\", a, b)\n",
    "    print(\"Your sum is\", a + b)\n"
   ]
  },
  {
   "cell_type": "markdown",
   "id": "06473551",
   "metadata": {},
   "source": [
    "Now, what if we also wanted to also support a multiply function? We can do that with branching:"
   ]
  },
  {
   "cell_type": "code",
   "execution_count": 21,
   "id": "177c1266",
   "metadata": {},
   "outputs": [
    {
     "name": "stdout",
     "output_type": "stream",
     "text": [
      "enter 3 numbers in the format 'a b c' where a and b are the numbers to operate on and c is the operand: 1 for addition, 2 for multiplication\n",
      "Adding 1 and 2\n",
      "Your total is 3\n",
      "enter 3 numbers in the format 'a b c' where a and b are the numbers to operate on and c is the operand: 1 for addition, 2 for multiplication\n",
      "Multiplying 1 and 2\n",
      "Your product is 2\n"
     ]
    }
   ],
   "source": [
    "for i in range(2):\n",
    "    print(\"enter 3 numbers in the format \\'a b c\\' where a and b are the numbers to operate on and c is the operand: \" \\\n",
    "    \"1 for addition, 2 for multiplication\", flush = True)\n",
    "    a, b, operation = map(int, input().split())\n",
    "    # print(a, b, operation, flush = True)\n",
    "    if operation == 1:\n",
    "        print(f\"Adding {a} and {b}\")\n",
    "        total = a + b\n",
    "        print(\"Your total is\", total)\n",
    "    elif operation == 2:\n",
    "        print(f\"Multiplying {a} and {b}\")\n",
    "        product = a * b\n",
    "        print(\"Your product is\", product)\n",
    "    else:\n",
    "        print(\"Invalid command\")"
   ]
  },
  {
   "cell_type": "markdown",
   "id": "95bc1621",
   "metadata": {},
   "source": [
    "To make it clear what the code is doing, let's put our add and multiply blocks into functions. "
   ]
  },
  {
   "cell_type": "code",
   "execution_count": null,
   "id": "9b5c5992",
   "metadata": {},
   "outputs": [],
   "source": [
    "def add(a, b):\n",
    "    print(f\"Adding {a} and {b}\")\n",
    "    total = a + b\n",
    "    print(\"Your total is\", total)\n",
    "def multiply(a, b):\n",
    "    print(f\"Multiplying {a} and {b}\")\n",
    "    product = a * b\n",
    "    print(\"Your product is\", product)\n",
    "for i in range(2):\n",
    "    print(\"enter 3 numbers in the format \\'a b c\\' where a and b are the numbers to operate on and c is the operand: \" \\\n",
    "    \"1 for addition, 2 for multiplication\", flush = True)\n",
    "    a, b, operation = map(int, input().split())\n",
    "    # print(a, b, operation, flush = True)\n",
    "    if operation == 1:\n",
    "        add(a, b)\n",
    "    elif operation == 2:\n",
    "        multiply(a, b)\n",
    "    else:\n",
    "        print(\"Invalid command\")"
   ]
  }
 ],
 "metadata": {
  "kernelspec": {
   "display_name": "Python 3",
   "language": "python",
   "name": "python3"
  },
  "language_info": {
   "codemirror_mode": {
    "name": "ipython",
    "version": 3
   },
   "file_extension": ".py",
   "mimetype": "text/x-python",
   "name": "python",
   "nbconvert_exporter": "python",
   "pygments_lexer": "ipython3",
   "version": "3.11.4"
  }
 },
 "nbformat": 4,
 "nbformat_minor": 5
}
